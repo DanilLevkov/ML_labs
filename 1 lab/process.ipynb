{
 "cells": [
  {
   "cell_type": "markdown",
   "metadata": {},
   "source": [
    "Практическое задание 1: Линейная регрессия, метод градиентного спуска"
   ]
  },
  {
   "cell_type": "markdown",
   "metadata": {},
   "source": [
    "1) Найти данные, на которых интересно будет решать задачу регрессии. Зависимость целового признака от нецелевых должна быть не слишком сложной, чтобы обученная линейная модель смогла показать приемлимый результат.\n",
    " - в данном случае взята база данных прочности бетона в зависимости от концентрации входяших в него компонент.\n",
    " Источник - https://archive.ics.uci.edu/ml/datasets/concrete+compressive+strength"
   ]
  },
  {
   "cell_type": "code",
   "execution_count": null,
   "metadata": {},
   "outputs": [],
   "source": [
    "import numpy as np\n",
    "import pandas as pd\n",
    "import matplotlib.pyplot as plt\n",
    "\n",
    "raw_data = pd.read_excel(\"data/Concrete_Data.xls\")\n",
    "raw_data.head()"
   ]
  },
  {
   "cell_type": "markdown",
   "metadata": {},
   "source": [
    "Нецелевые параметры (все количественные)\n",
    "Cement (component 1) -- kg in a m3 mixture \n",
    "Blast Furnace Slag (component 2) -- kg in a m3 mixture\n",
    "Fly Ash (component 3) -- kg in a m3 mixture\n",
    "Water (component 4) -- kg in a m3 mixture\n",
    "Superplasticizer (component 5) -- kg in a m3 mixture\n",
    "Coarse Aggregate (component 6) -- kg in a m3 mixture\n",
    "Fine Aggregate (component 7) -- kg in a m3 mixture\n",
    "Age -- Day (1~365)  \n",
    "\n",
    "Целевой параметр\n",
    "Concrete compressive strength -- MPa "
   ]
  },
  {
   "cell_type": "markdown",
   "metadata": {},
   "source": [
    "2) Считать данные, выполнить первичный анализ данных, при необходимости произвести чистку данных\n",
    "- проверим данные на наличие пропусков\n",
    "- переименуем заголовки столбцов для удобства"
   ]
  },
  {
   "cell_type": "code",
   "execution_count": null,
   "metadata": {},
   "outputs": [],
   "source": [
    "raw_data.isnull().sum()"
   ]
  },
  {
   "cell_type": "code",
   "execution_count": null,
   "metadata": {},
   "outputs": [],
   "source": [
    "data = raw_data.set_axis(['Cement', 'Slag', 'Ash', 'Water', 'Superplasticizer','Coarse', 'Fine', 'Age', 'Strength'], axis=1, copy=True)\n",
    "data.describe()"
   ]
  },
  {
   "cell_type": "markdown",
   "metadata": {},
   "source": [
    "Из вывода видно, что в данных нет пропусков. Также можно отметить следующие особенности:\n",
    "* более четверти образцов вообще не имеют шлака или суперпластификатора, а более половины - золы.\n",
    "* более 75% образцов не старше 2 месяцев.\n",
    "Это может негативно сказаться на обучении модели, особенно в случае кросс-валидации. Так как в выборки могут попасть данные только с тривиальными значениями в конкретной колонке. Стоит учитывать этот момент при разделени на тестовую и обучающую выборки."
   ]
  },
  {
   "cell_type": "markdown",
   "metadata": {},
   "source": [
    "3) Выполнить разведочный анализ (EDA), использовать визуализацию, сделать выводы, которые могут быть полезны при дальнейшем решении задачи регрессии."
   ]
  },
  {
   "cell_type": "code",
   "execution_count": null,
   "metadata": {},
   "outputs": [],
   "source": [
    "plt.scatter(x=data['Cement'] , y=data['Strength'])"
   ]
  },
  {
   "cell_type": "markdown",
   "metadata": {},
   "source": [
    "Из графика выше видно, что количесвто цемента (ожидаемо) является показательной характеристикой прочности бетона. При массе меньше 300, невозможно достичь наивысшего качества, подбором других параметров."
   ]
  },
  {
   "cell_type": "code",
   "execution_count": null,
   "metadata": {},
   "outputs": [],
   "source": [
    "plt.scatter(x=data['Coarse'] , y=data['Fine'], c=data['Strength'])"
   ]
  },
  {
   "cell_type": "markdown",
   "metadata": {},
   "source": [
    "Из данного графика видно отсутсвие прямой зависимости между наполнителями."
   ]
  },
  {
   "cell_type": "markdown",
   "metadata": {},
   "source": [
    "4) При необходимости выполнить полезные преобразования данных (например, трансформировать категариальные признаки в количественные), убрать ненужные признаки, создать новые (Feature Engineering).\n",
    "- при попытках составить новые признаки, видимые линейные зависимости не наблюдались."
   ]
  },
  {
   "cell_type": "markdown",
   "metadata": {},
   "source": [
    "Рассмотрим матрицу попарной корреляции для признаков"
   ]
  },
  {
   "cell_type": "code",
   "execution_count": null,
   "metadata": {},
   "outputs": [],
   "source": [
    "import seaborn\n",
    "seaborn.heatmap(data.corr(), cbar = True , annot=True)"
   ]
  },
  {
   "cell_type": "markdown",
   "metadata": {},
   "source": [
    "5) Перед обучением моделей подобрать наилучшее количество (и само подмножество) признаков, например используя Recursive Feature Elimination (RFE).\n",
    "* зададимся целью убрать самый незначимый параметр. Сделаем это с помощью RFE. Укажем целевое количество параметров на 1 меньше текущего.\n",
    "Как видим Крупный Наполнитель (Coarse) оказался наименее полезным параметром для линейной регрессии с точки зрения этого алгоритма."
   ]
  },
  {
   "cell_type": "code",
   "execution_count": null,
   "metadata": {},
   "outputs": [],
   "source": [
    "from sklearn.linear_model import LinearRegression\n",
    "from sklearn.feature_selection import RFE\n",
    "\n",
    "x = data.drop(['Strength'], axis=1)\n",
    "y = data['Strength']\n",
    "\n",
    "rfe = RFE(estimator=LinearRegression(), n_features_to_select=7)\n",
    "rfe.fit(x, y)\n",
    "x = rfe.transform(x)\n",
    "rfe.get_feature_names_out()"
   ]
  },
  {
   "cell_type": "markdown",
   "metadata": {},
   "source": [
    "6) Случайным образом разбить данные на обучающую и тестовую выборки, используя методы существующих библиотек.\n",
    "- тестовая выборка 25%"
   ]
  },
  {
   "cell_type": "code",
   "execution_count": null,
   "metadata": {},
   "outputs": [],
   "source": [
    "from sklearn.model_selection import train_test_split\n",
    "x_train, x_test, y_train, y_test = train_test_split(x, y, test_size=0.25)"
   ]
  },
  {
   "cell_type": "markdown",
   "metadata": {},
   "source": [
    "7) При обучении моделей использовать масштабирование данных.\n",
    "- в случае линейной регрессии очень важный пункт, так как параметры входят как слагаемые в одно выражение.\n",
    "- воспользуемся стандартными средствами"
   ]
  },
  {
   "cell_type": "code",
   "execution_count": null,
   "metadata": {},
   "outputs": [],
   "source": [
    "from sklearn.preprocessing import StandardScaler\n",
    "scaler = StandardScaler()\n",
    "x_train = scaler.fit_transform(x_train) # запоминаем и примееняем масштаб на тренировочных данных\n",
    "x_test = scaler.transform(x_test) # применяем к тестовым. То есть они могут выходить за пределы"
   ]
  },
  {
   "cell_type": "markdown",
   "metadata": {},
   "source": [
    "8) Обучить модель на обучающей выборке, используя функцию gradient_descent(X, y). Оценить качество модели на обучающей и тестовой выборках, используя MSE, RMSE и R^2."
   ]
  },
  {
   "cell_type": "code",
   "execution_count": null,
   "metadata": {},
   "outputs": [],
   "source": [
    "from functions import gradient_descent\n",
    "w = gradient_descent(x_train, y_train, alpha=0.05, max_iteration_num=1000)\n",
    "y_ans_my_grad = x_test.dot(w[1:])+ w[0]"
   ]
  },
  {
   "cell_type": "code",
   "execution_count": null,
   "metadata": {},
   "outputs": [],
   "source": [
    "from sklearn.metrics import mean_squared_error, r2_score\n",
    "from prettytable import PrettyTable\n",
    "\n",
    "results = PrettyTable([\"Exp\", \"MSE\", \"RMSE\", \"R^2\"])\n",
    "results.add_row([\"My gradient\",  mean_squared_error(y_test, y_ans_my_grad), np.sqrt(mean_squared_error(y_test, y_ans_my_grad)), r2_score(y_test, y_ans_my_grad)])"
   ]
  },
  {
   "cell_type": "code",
   "execution_count": null,
   "metadata": {},
   "outputs": [],
   "source": [
    "from sklearn.linear_model import Ridge\n",
    "model = Ridge()\n",
    "model.fit(x_train, y_train)\n",
    "y_ans_Ridge = model.predict(x_test)\n",
    "results.add_row([\"Ridge\",  mean_squared_error(y_test, y_ans_Ridge), np.sqrt(mean_squared_error(y_test, y_ans_Ridge)), r2_score(y_test, y_ans_Ridge)])"
   ]
  },
  {
   "cell_type": "markdown",
   "metadata": {},
   "source": [
    "9) Повторить тоже самое, но используя кросс-валидацию.\n",
    "- так как тестовая выборка составляет 25% от общего числа данных, а их колличество не так велико, разобьем тренировочную выборку на 4\n",
    "- в качестве модели используем LinearRegression(), а для "
   ]
  },
  {
   "cell_type": "code",
   "execution_count": 29,
   "metadata": {},
   "outputs": [],
   "source": [
    "from sklearn.model_selection import cross_val_score\n",
    "cross_scores = cross_val_score(LinearRegression(), x_train, y_train, cv=4, scoring='neg_mean_squared_error')\n",
    "cross_scores_r2 = cross_val_score(LinearRegression(), x_train, y_train, cv=4, scoring='r2')\n",
    "results.add_row([\"Cross validation\", abs(cross_scores.mean()), np.sqrt(abs(cross_scores.mean())), cross_scores_r2.mean()])"
   ]
  },
  {
   "cell_type": "code",
   "execution_count": 30,
   "metadata": {},
   "outputs": [
    {
     "name": "stdout",
     "output_type": "stream",
     "text": [
      "+------------------+---------------------+--------------------+---------------------+\n",
      "|       Exp        |         MSE         |        RMSE        |         R^2         |\n",
      "+------------------+---------------------+--------------------+---------------------+\n",
      "|   My gradient    |  112.82255504713623 | 10.621796225080589 |  0.5634143251620491 |\n",
      "|      Ridge       |  112.78934280258935 | 10.620232709436708 |  0.5635428454760265 |\n",
      "| Cross validation |  0.6090410428395059 | 0.7804108167109846 |          -          |\n",
      "| Cross validation | -109.38656138359136 |        nan         |          -          |\n",
      "| Cross validation |  109.38656138359136 | 10.458803056927277 |          -          |\n",
      "| Cross validation |  109.38656138359136 | 10.458803056927277 |  0.6090410428395059 |\n",
      "| Cross validation |  109.38656138359136 | 10.458803056927277 |  0.6090410428395059 |\n",
      "| Cross validation |  138.30276967853203 | 11.760219797203284 | 0.39652842891836737 |\n",
      "| Cross validation |  109.38656138359136 | 10.458803056927277 |  0.6090410428395059 |\n",
      "+------------------+---------------------+--------------------+---------------------+\n"
     ]
    }
   ],
   "source": [
    "print(results)"
   ]
  }
 ],
 "metadata": {
  "kernelspec": {
   "display_name": "Python 3.10.8 64-bit (microsoft store)",
   "language": "python",
   "name": "python3"
  },
  "language_info": {
   "codemirror_mode": {
    "name": "ipython",
    "version": 3
   },
   "file_extension": ".py",
   "mimetype": "text/x-python",
   "name": "python",
   "nbconvert_exporter": "python",
   "pygments_lexer": "ipython3",
   "version": "3.10.8"
  },
  "orig_nbformat": 4,
  "vscode": {
   "interpreter": {
    "hash": "2cd8e21b9d6ea03e2b0a0b819647d3df5d00c86d4984c2e947ba45a0e51f1c7e"
   }
  }
 },
 "nbformat": 4,
 "nbformat_minor": 2
}
